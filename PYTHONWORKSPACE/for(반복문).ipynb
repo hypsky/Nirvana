{
 "cells": [
  {
   "cell_type": "code",
   "execution_count": 2,
   "metadata": {},
   "outputs": [
    {
     "name": "stdout",
     "output_type": "stream",
     "text": [
      "대기번호 : 1\n",
      "대기번호 : 2\n",
      "대기번호 : 3\n",
      "대기번호 : 4\n"
     ]
    }
   ],
   "source": [
    "print(\"대기번호 : 1\")\n",
    "print(\"대기번호 : 2\")\n",
    "print(\"대기번호 : 3\")\n",
    "print(\"대기번호 : 4\")\n"
   ]
  },
  {
   "cell_type": "code",
   "execution_count": 4,
   "metadata": {},
   "outputs": [
    {
     "name": "stdout",
     "output_type": "stream",
     "text": [
      "대기번호: 0\n",
      "대기번호: 1\n",
      "대기번호: 2\n",
      "대기번호: 3\n",
      "대기번호: 4\n"
     ]
    }
   ],
   "source": [
    "for waiting_no in [0, 1, 2, 3, 4]:\n",
    "    print(\"대기번호: {0}\".format(waiting_no))"
   ]
  },
  {
   "cell_type": "code",
   "execution_count": 7,
   "metadata": {},
   "outputs": [
    {
     "name": "stdout",
     "output_type": "stream",
     "text": [
      "대기번호: 1\n",
      "대기번호: 2\n",
      "대기번호: 3\n",
      "대기번호: 4\n",
      "대기번호: 5\n"
     ]
    }
   ],
   "source": [
    "for waiting_no in range(1, 6):\n",
    "    print(\"대기번호: {0}\".format(waiting_no))"
   ]
  },
  {
   "cell_type": "code",
   "execution_count": 8,
   "metadata": {},
   "outputs": [
    {
     "name": "stdout",
     "output_type": "stream",
     "text": [
      "아이언맨, 커피가 준비 되었습니다.\n",
      "토르, 커피가 준비 되었습니다.\n",
      "아이엠 그루트, 커피가 준비 되었습니다.\n"
     ]
    }
   ],
   "source": [
    "starbucks = [\"아이언맨\", \"토르\", \"아이엠 그루트\"]\n",
    "\n",
    "for customer in starbucks:\n",
    "    print(\"{0}, 커피가 준비 되었습니다.\".format(customer))"
   ]
  },
  {
   "cell_type": "code",
   "execution_count": null,
   "metadata": {},
   "outputs": [],
   "source": []
  }
 ],
 "metadata": {
  "kernelspec": {
   "display_name": "Python 3.9.6 64-bit",
   "language": "python",
   "name": "python3"
  },
  "language_info": {
   "codemirror_mode": {
    "name": "ipython",
    "version": 3
   },
   "file_extension": ".py",
   "mimetype": "text/x-python",
   "name": "python",
   "nbconvert_exporter": "python",
   "pygments_lexer": "ipython3",
   "version": "3.9.6"
  },
  "orig_nbformat": 4,
  "vscode": {
   "interpreter": {
    "hash": "31f2aee4e71d21fbe5cf8b01ff0e069b9275f58929596ceb00d14d90e3e16cd6"
   }
  }
 },
 "nbformat": 4,
 "nbformat_minor": 2
}
