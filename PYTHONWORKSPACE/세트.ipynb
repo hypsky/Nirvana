{
 "cells": [
  {
   "cell_type": "code",
   "execution_count": 1,
   "metadata": {},
   "outputs": [
    {
     "name": "stdout",
     "output_type": "stream",
     "text": [
      "{1, 2, 3}\n"
     ]
    }
   ],
   "source": [
    "# 집합 (set)\n",
    "# 중복 안됨, 순서 없음\n",
    "\n",
    "my_set = {1,2,3,3,3,}\n",
    "print(my_set)"
   ]
  },
  {
   "cell_type": "code",
   "execution_count": 3,
   "metadata": {},
   "outputs": [
    {
     "name": "stdout",
     "output_type": "stream",
     "text": [
      "{'유재석'}\n",
      "{'유재석'}\n"
     ]
    }
   ],
   "source": [
    "java = {\"유재석\", \"김태호\", \"양세형\"}\n",
    "python = set([\"유재석\", \"박명수\"])\n",
    "\n",
    "# 교집합 ( java 와 python 을 모두 할 수있는 개발자)\n",
    "print(java & python)\n",
    "print(java.intersection(python))"
   ]
  },
  {
   "cell_type": "code",
   "execution_count": 5,
   "metadata": {},
   "outputs": [
    {
     "name": "stdout",
     "output_type": "stream",
     "text": [
      "{'유재석', '양세형', '박명수', '김태호'}\n",
      "{'유재석', '양세형', '박명수', '김태호'}\n"
     ]
    }
   ],
   "source": [
    "# 합집합 ( java 도 할 수 있거나 python 할 수 있는 개발자)\n",
    "print(java | python)\n",
    "print(java.union(python))"
   ]
  },
  {
   "cell_type": "code",
   "execution_count": 6,
   "metadata": {},
   "outputs": [
    {
     "name": "stdout",
     "output_type": "stream",
     "text": [
      "{'김태호', '양세형'}\n",
      "{'김태호', '양세형'}\n"
     ]
    }
   ],
   "source": [
    "# 차집합 ( java 는 할수 있지만  python은 할 줄 모르는 개발자)\n",
    "print(java - python)\n",
    "print(java.difference(python))"
   ]
  },
  {
   "cell_type": "code",
   "execution_count": 8,
   "metadata": {},
   "outputs": [
    {
     "name": "stdout",
     "output_type": "stream",
     "text": [
      "{'박명수', '유재석', '김태호'}\n"
     ]
    }
   ],
   "source": [
    "# python 할 줄 아는 사람이 늘어남\n",
    "python.add('김태호')\n",
    "print(python)"
   ]
  },
  {
   "cell_type": "code",
   "execution_count": 9,
   "metadata": {},
   "outputs": [
    {
     "name": "stdout",
     "output_type": "stream",
     "text": [
      "{'유재석', '양세형'}\n"
     ]
    }
   ],
   "source": [
    "# java를 잊었어요\n",
    "java.remove(\"김태호\")\n",
    "print(java)"
   ]
  },
  {
   "cell_type": "code",
   "execution_count": null,
   "metadata": {},
   "outputs": [],
   "source": []
  }
 ],
 "metadata": {
  "kernelspec": {
   "display_name": "Python 3.9.13 ('anaconda')",
   "language": "python",
   "name": "python3"
  },
  "language_info": {
   "codemirror_mode": {
    "name": "ipython",
    "version": 3
   },
   "file_extension": ".py",
   "mimetype": "text/x-python",
   "name": "python",
   "nbconvert_exporter": "python",
   "pygments_lexer": "ipython3",
   "version": "3.9.13"
  },
  "orig_nbformat": 4,
  "vscode": {
   "interpreter": {
    "hash": "cc7efb701e1c9eb9a2e36fb83d3d45b81e126f9ec5dbcc55c1bfbed5762f5682"
   }
  }
 },
 "nbformat": 4,
 "nbformat_minor": 2
}
