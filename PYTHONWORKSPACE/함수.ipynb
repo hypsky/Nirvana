{
 "cells": [
  {
   "cell_type": "code",
   "execution_count": 1,
   "metadata": {},
   "outputs": [],
   "source": [
    "def open_account():\n",
    "    print(\"새로운 계좌가 생성 되었습니다.\")"
   ]
  },
  {
   "cell_type": "code",
   "execution_count": 2,
   "metadata": {},
   "outputs": [
    {
     "name": "stdout",
     "output_type": "stream",
     "text": [
      "새로운 계좌가 생성 되었습니다.\n"
     ]
    }
   ],
   "source": [
    "open_account()"
   ]
  },
  {
   "cell_type": "code",
   "execution_count": 10,
   "metadata": {},
   "outputs": [],
   "source": [
    "# 전달값과 반환값\n",
    "\n",
    "def deposit(balance, money): # 입금\n",
    "    print(\"입금이 완료되었습니다. 잔액은 {0} 원입니다.\".format(balance + money))\n",
    "    return balance + money\n",
    "\n",
    "def withdraw ( balance, money): # 출금\n",
    "    if balance >= money: # 잔액이 출금보다 많으면 \n",
    "        print(\"출금이 완료 되었습니다. 잔액은 {0} 원 입니다.\".format(balance - money))\n",
    "        return balance - money\n",
    "    else:\n",
    "        print(\"출금이 완료되지 않았습니다. 잔액은 {0}원 입니다.\".format(balance))\n",
    "\n",
    "        return balance\n",
    "\n",
    "def withdraw_night(balance, money): # 저녁에 출금\n",
    "    commission = 100 # 수수료 100원\n",
    "    return commission, balance - money - commission\n",
    "\n"
   ]
  },
  {
   "cell_type": "code",
   "execution_count": 13,
   "metadata": {},
   "outputs": [
    {
     "name": "stdout",
     "output_type": "stream",
     "text": [
      "입금이 완료되었습니다. 잔액은 1000 원입니다.\n",
      "수수료100원이며, 잔액은 400원 입니다.\n"
     ]
    }
   ],
   "source": [
    "balance = 0\n",
    "balance = deposit(balance, 1000)\n",
    "# balance = withdraw(balance, 2000)\n",
    "# balance = withdraw(balance, 500)\n",
    "commisson , balance = withdraw_night(balance, 500)\n",
    "print(\"수수료{0}원이며, 잔액은 {1}원 입니다.\".format(commisson, balance)) #balance = 잔액"
   ]
  },
  {
   "cell_type": "code",
   "execution_count": 3,
   "metadata": {},
   "outputs": [
    {
     "name": "stdout",
     "output_type": "stream",
     "text": [
      "입금이 완료되었습니다. 잔액은 1000원입니다. \n"
     ]
    }
   ],
   "source": [
    "def deposit(balance, money):\n",
    "    print(\"입금이 완료되었습니다. 잔액은 {0}원입니다. \".format(balance + money))\n",
    "    return(balance +money)\n",
    "\n",
    "balance = 0\n",
    "\n",
    "balance = deposit(balance, 1000)"
   ]
  },
  {
   "cell_type": "code",
   "execution_count": 6,
   "metadata": {},
   "outputs": [],
   "source": [
    "def withdraw(balance, money):\n",
    "    if balance >= money :\n",
    "        print(\"출금이 완료되었습니다. 잔액은{0}원 입니다.\".format(balance - money))\n",
    "    else:\n",
    "        print(\"출금이 되지 않았습니다. 잔액은 {0}원 입니다.\".format(balance))"
   ]
  },
  {
   "cell_type": "code",
   "execution_count": 15,
   "metadata": {},
   "outputs": [
    {
     "name": "stdout",
     "output_type": "stream",
     "text": [
      "수수료는 {0}원이며, 잔액은{1}원 입니다.\n"
     ]
    }
   ],
   "source": [
    "def withdraw_night(balance, money):\n",
    "    commisson = 100\n",
    "    return commisson, balance - money - commisson"
   ]
  },
  {
   "cell_type": "code",
   "execution_count": 18,
   "metadata": {},
   "outputs": [
    {
     "name": "stdout",
     "output_type": "stream",
     "text": [
      "수수료는 {0}원이며, 잔액은{1}원 입니다.\n"
     ]
    }
   ],
   "source": [
    "balance = 0\n",
    "balance = deposit(balance, 1000)\n",
    "# balance = withdraw(balance, 2000)\n",
    "# balance = withdraw(balance, 500)\n",
    "commisson , balance = withdraw_night(balance, 500)\n",
    "print(\"수수료{0}원이며, 잔액은 {1}원 입니다.\".format(commisson, balance)) #balance = 잔액"
   ]
  }
 ],
 "metadata": {
  "kernelspec": {
   "display_name": "Python 3.11.0 64-bit",
   "language": "python",
   "name": "python3"
  },
  "language_info": {
   "codemirror_mode": {
    "name": "ipython",
    "version": 3
   },
   "file_extension": ".py",
   "mimetype": "text/x-python",
   "name": "python",
   "nbconvert_exporter": "python",
   "pygments_lexer": "ipython3",
   "version": "3.11.0"
  },
  "orig_nbformat": 4,
  "vscode": {
   "interpreter": {
    "hash": "53b661e86c0fb3a7847bfb80be1a663c6d16331bfe7f5b3ca6e6817531f3439a"
   }
  }
 },
 "nbformat": 4,
 "nbformat_minor": 2
}
