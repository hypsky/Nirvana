{
 "cells": [
  {
   "cell_type": "code",
   "execution_count": 2,
   "metadata": {},
   "outputs": [
    {
     "name": "stdout",
     "output_type": "stream",
     "text": [
      "1, 책을 읽어봐\n",
      "3, 책을 읽어봐\n",
      "4, 책을 읽어봐\n",
      "6, 책을 읽어봐\n",
      "오늘 수업 여기까지. 7는 교무실로 따라와\n"
     ]
    }
   ],
   "source": [
    "absent = [2, 5] # 결석\n",
    "no_book = [7] # 책을 깜빡함\n",
    "for student in range(1, 11): \n",
    "    if student in absent:\n",
    "        continue\n",
    "    elif student in no_book:\n",
    "        print(\"오늘 수업 여기까지. {0}는 교무실로 따라와\".format(student))\n",
    "        break\n",
    "    print(\"{0}, 책을 읽어봐\".format(student))"
   ]
  },
  {
   "cell_type": "code",
   "execution_count": null,
   "metadata": {},
   "outputs": [],
   "source": []
  }
 ],
 "metadata": {
  "kernelspec": {
   "display_name": "Python 3.9.6 64-bit",
   "language": "python",
   "name": "python3"
  },
  "language_info": {
   "codemirror_mode": {
    "name": "ipython",
    "version": 3
   },
   "file_extension": ".py",
   "mimetype": "text/x-python",
   "name": "python",
   "nbconvert_exporter": "python",
   "pygments_lexer": "ipython3",
   "version": "3.9.6"
  },
  "orig_nbformat": 4,
  "vscode": {
   "interpreter": {
    "hash": "31f2aee4e71d21fbe5cf8b01ff0e069b9275f58929596ceb00d14d90e3e16cd6"
   }
  }
 },
 "nbformat": 4,
 "nbformat_minor": 2
}
