{
 "cells": [
  {
   "cell_type": "code",
   "execution_count": 1,
   "metadata": {},
   "outputs": [],
   "source": [
    "def open_account():\n",
    "    print(\"새로운 계좌가 생성 되었습니다.\")"
   ]
  },
  {
   "cell_type": "code",
   "execution_count": 2,
   "metadata": {},
   "outputs": [
    {
     "name": "stdout",
     "output_type": "stream",
     "text": [
      "새로운 계좌가 생성 되었습니다.\n"
     ]
    }
   ],
   "source": [
    "open_account()"
   ]
  },
  {
   "cell_type": "code",
   "execution_count": 8,
   "metadata": {},
   "outputs": [
    {
     "name": "stdout",
     "output_type": "stream",
     "text": [
      "입금이 완료되었습니다. 잔액은 1000 원입니다.\n",
      "수수료100원이며, 잔액은 400원 입니다.\n"
     ]
    }
   ],
   "source": [
    "# 전달값과 반환값\n",
    "\n",
    "def deposit(balance, money): # 입금\n",
    "    print(\"입금이 완료되었습니다. 잔액은 {0} 원입니다.\".format(balance + money))\n",
    "    return balance + money\n",
    "\n",
    "def withdraw ( balance, money): # 출금\n",
    "    if balance >= money: # 잔액이 출금보다 많으면 \n",
    "        print(\"출금이 완료 되었습니다. 잔액은 {0} 원 입니다.\".format(balance - money))\n",
    "        return balance - money\n",
    "    else:\n",
    "        print(\"출금이 완료되지 않았습니다. 잔액은 {0}원 입니다.\".format(balance))\n",
    "\n",
    "        return balance\n",
    "\n",
    "def withdraw_night(balance, money): # 저녁에 출금\n",
    "    commission = 100 # 수수료 100원\n",
    "    return commission, balance - money - commission\n",
    "\n",
    "balance = 0\n",
    "balance = deposit(balance, 1000)\n",
    "# balance = withdraw(balance, 2000)\n",
    "# balance = withdraw(balance, 500)\n",
    "commisson , balance = withdraw_night(balance, 500)\n",
    "print(\"수수료{0}원이며, 잔액은 {1}원 입니다.\".format(commisson, balance))\n",
    "\n"
   ]
  },
  {
   "cell_type": "code",
   "execution_count": 15,
   "metadata": {},
   "outputs": [
    {
     "name": "stdout",
     "output_type": "stream",
     "text": [
      "입금이 완료되었습니다. 잔액은 1000원입니다. \n"
     ]
    }
   ],
   "source": [
    "def deposit(balance, money):\n",
    "    print(\"입금이 완료되었습니다. 잔액은 {0}원입니다. \".format(balance + money))\n",
    "    return(balance +money)\n",
    "\n",
    "balance = 0\n",
    "\n",
    "balance = deposit(balance, 1000)"
   ]
  },
  {
   "cell_type": "code",
   "execution_count": 16,
   "metadata": {},
   "outputs": [],
   "source": [
    "def withdraw(balance, money):\n",
    "    if balance >= money :\n",
    "        print(\"출금이 완료되었습니다. 잔액은{0}원 입니다.\".format(balance - money))\n",
    "    else:\n",
    "        print(\"출금이 되지 않았습니다. 잔액은 {0}원 입니다.\".format(balance))"
   ]
  },
  {
   "cell_type": "code",
   "execution_count": 18,
   "metadata": {},
   "outputs": [
    {
     "ename": "TypeError",
     "evalue": "'>=' not supported between instances of 'NoneType' and 'int'",
     "output_type": "error",
     "traceback": [
      "\u001b[0;31m---------------------------------------------------------------------------\u001b[0m",
      "\u001b[0;31mTypeError\u001b[0m                                 Traceback (most recent call last)",
      "Cell \u001b[0;32mIn [18], line 1\u001b[0m\n\u001b[0;32m----> 1\u001b[0m balance\u001b[38;5;241m=\u001b[39m withdraw(balance, \u001b[38;5;241m1000\u001b[39m)\n\u001b[1;32m      2\u001b[0m balance \u001b[38;5;241m=\u001b[39m withdraw(balance, \u001b[38;5;241m500\u001b[39m)\n",
      "Cell \u001b[0;32mIn [16], line 2\u001b[0m, in \u001b[0;36mwithdraw\u001b[0;34m(balance, money)\u001b[0m\n\u001b[1;32m      1\u001b[0m \u001b[38;5;28;01mdef\u001b[39;00m \u001b[38;5;21mwithdraw\u001b[39m(balance, money):\n\u001b[0;32m----> 2\u001b[0m     \u001b[38;5;28;01mif\u001b[39;00m \u001b[43mbalance\u001b[49m\u001b[43m \u001b[49m\u001b[38;5;241;43m>\u001b[39;49m\u001b[38;5;241;43m=\u001b[39;49m\u001b[43m \u001b[49m\u001b[43mmoney\u001b[49m :\n\u001b[1;32m      3\u001b[0m         \u001b[38;5;28mprint\u001b[39m(\u001b[38;5;124m\"\u001b[39m\u001b[38;5;124m출금이 완료되었습니다. 잔액은\u001b[39m\u001b[38;5;132;01m{0}\u001b[39;00m\u001b[38;5;124m원 입니다.\u001b[39m\u001b[38;5;124m\"\u001b[39m\u001b[38;5;241m.\u001b[39mformat(balance \u001b[38;5;241m-\u001b[39m money))\n\u001b[1;32m      4\u001b[0m     \u001b[38;5;28;01melse\u001b[39;00m:\n",
      "\u001b[0;31mTypeError\u001b[0m: '>=' not supported between instances of 'NoneType' and 'int'"
     ]
    }
   ],
   "source": [
    "balance= withdraw(balance, 1000)\n",
    "balance = withdraw(balance, 500)"
   ]
  },
  {
   "cell_type": "code",
   "execution_count": null,
   "metadata": {},
   "outputs": [],
   "source": []
  }
 ],
 "metadata": {
  "kernelspec": {
   "display_name": "Python 3.9.6 64-bit",
   "language": "python",
   "name": "python3"
  },
  "language_info": {
   "codemirror_mode": {
    "name": "ipython",
    "version": 3
   },
   "file_extension": ".py",
   "mimetype": "text/x-python",
   "name": "python",
   "nbconvert_exporter": "python",
   "pygments_lexer": "ipython3",
   "version": "3.9.6"
  },
  "orig_nbformat": 4,
  "vscode": {
   "interpreter": {
    "hash": "31f2aee4e71d21fbe5cf8b01ff0e069b9275f58929596ceb00d14d90e3e16cd6"
   }
  }
 },
 "nbformat": 4,
 "nbformat_minor": 2
}
