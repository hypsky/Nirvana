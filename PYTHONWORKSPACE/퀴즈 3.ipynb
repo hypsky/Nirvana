{
 "cells": [
  {
   "cell_type": "code",
   "execution_count": null,
   "metadata": {},
   "outputs": [],
   "source": [
    "# Quiz) 사이트별로 비밀번호를 만들어주는 프로그램을 작성하시오\n",
    "\n",
    "# 예) http//naver.com\n",
    "# 규칙1: http:// 부분은 제외 ==> naver.com\n",
    "# 규칙2: 처음 만나는 점(.) 이후 부분은 제외 => naver\n",
    "# 규칙3: 남은 글자 중 처음 세자리 + 글자 갯수 + 글자 내 'e' 갯수 + '!' 로 구성\n",
    "\n",
    "# 예) 생성된 비밀번호 :nav51!\n",
    "\n",
    "url = \"http://naver.com\"\n",
    "my_str = url.replace(\"http://\", \"\")\n",
    "#my_str = my_str[:my_str.index(\".\")]\n",
    "my_str = my_str[:5]\n",
    "\n",
    "password = my_str[:3] + str(len(my_str)) + str(my_str.count(\"e\")) + '!'\n",
    "print(\"{0}의 비밀번호는 {1} 입니다\".format(url, password))\n",
    "\n",
    "print(my_str.count('e'))"
   ]
  }
 ],
 "metadata": {
  "language_info": {
   "name": "python"
  },
  "orig_nbformat": 4
 },
 "nbformat": 4,
 "nbformat_minor": 2
}
