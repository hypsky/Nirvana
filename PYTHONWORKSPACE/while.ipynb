{
 "cells": [
  {
   "cell_type": "code",
   "execution_count": 1,
   "metadata": {},
   "outputs": [
    {
     "name": "stdout",
     "output_type": "stream",
     "text": [
      "토르, 커피가 준비 되었습니다. 5 번 남았어요\n",
      "토르, 커피가 준비 되었습니다. 4 번 남았어요\n",
      "토르, 커피가 준비 되었습니다. 3 번 남았어요\n",
      "토르, 커피가 준비 되었습니다. 2 번 남았어요\n",
      "토르, 커피가 준비 되었습니다. 1 번 남았어요\n",
      "커피는 폐기처분 되었습니다.\n"
     ]
    }
   ],
   "source": [
    "# while\n",
    "customer = \"토르\"\n",
    "index = 5\n",
    "\n",
    "while index >= 1:\n",
    "    print(\"{0}, 커피가 준비 되었습니다. {1} 번 남았어요\".format(customer, index))\n",
    "    index -=1\n",
    "    if index ==0:\n",
    "        print(\"커피는 폐기처분 되었습니다.\")"
   ]
  },
  {
   "cell_type": "code",
   "execution_count": 2,
   "metadata": {},
   "outputs": [
    {
     "name": "stdout",
     "output_type": "stream",
     "text": [
      "토르, 커피가 준비 되었습니다.\n"
     ]
    }
   ],
   "source": [
    "customer = \"토르\"\n",
    "person = \"Unknown\"\n",
    "while person != customer:\n",
    "    print(\"{0}, 커피가 준비 되었습니다.\".format(customer))\n",
    "    person = input(\"이름이 어떻게 되세요?\")"
   ]
  },
  {
   "cell_type": "code",
   "execution_count": null,
   "metadata": {},
   "outputs": [],
   "source": []
  }
 ],
 "metadata": {
  "kernelspec": {
   "display_name": "Python 3.9.6 64-bit",
   "language": "python",
   "name": "python3"
  },
  "language_info": {
   "codemirror_mode": {
    "name": "ipython",
    "version": 3
   },
   "file_extension": ".py",
   "mimetype": "text/x-python",
   "name": "python",
   "nbconvert_exporter": "python",
   "pygments_lexer": "ipython3",
   "version": "3.9.6"
  },
  "orig_nbformat": 4,
  "vscode": {
   "interpreter": {
    "hash": "31f2aee4e71d21fbe5cf8b01ff0e069b9275f58929596ceb00d14d90e3e16cd6"
   }
  }
 },
 "nbformat": 4,
 "nbformat_minor": 2
}
