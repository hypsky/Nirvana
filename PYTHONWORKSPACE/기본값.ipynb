{
 "cells": [
  {
   "cell_type": "code",
   "execution_count": 2,
   "metadata": {},
   "outputs": [],
   "source": [
    "# 함수에서 기본값 설정\n",
    "def profile (name, age, main_lang):\n",
    "    print(\"이름 {0}\\t 나이: {1}\\t 주사용언어: {2}\" \\\n",
    "        .format(name, age, main_lang))"
   ]
  },
  {
   "cell_type": "code",
   "execution_count": 3,
   "metadata": {},
   "outputs": [
    {
     "name": "stdout",
     "output_type": "stream",
     "text": [
      "이름 유재석\t 나이: 20\t 주사용언어: 파이썬\n",
      "이름 김태호\t 나이: 25\t 주사용언어: 자바\n"
     ]
    }
   ],
   "source": [
    "profile(\"유재석\", 20, \"파이썬\")\n",
    "profile(\"김태호\", 25, \"자바\")"
   ]
  },
  {
   "cell_type": "code",
   "execution_count": 4,
   "metadata": {},
   "outputs": [],
   "source": [
    "def profile(name, age=17, main_lang=\"파이썬\"):\n",
    "    print(\"이름: {0}\\t 나이:{1}\\t 주사용언어:{2}\"\\\n",
    "        .format(name, age, main_lang))"
   ]
  },
  {
   "cell_type": "code",
   "execution_count": 5,
   "metadata": {},
   "outputs": [
    {
     "name": "stdout",
     "output_type": "stream",
     "text": [
      "이름: 유재석\t 나이:17\t 주사용언어:파이썬\n",
      "이름: 김태호\t 나이:17\t 주사용언어:파이썬\n"
     ]
    }
   ],
   "source": [
    "profile(\"유재석\")\n",
    "profile(\"김태호\")"
   ]
  },
  {
   "cell_type": "code",
   "execution_count": null,
   "metadata": {},
   "outputs": [],
   "source": []
  }
 ],
 "metadata": {
  "kernelspec": {
   "display_name": "Python 3.11.0 64-bit",
   "language": "python",
   "name": "python3"
  },
  "language_info": {
   "codemirror_mode": {
    "name": "ipython",
    "version": 3
   },
   "file_extension": ".py",
   "mimetype": "text/x-python",
   "name": "python",
   "nbconvert_exporter": "python",
   "pygments_lexer": "ipython3",
   "version": "3.11.0"
  },
  "orig_nbformat": 4,
  "vscode": {
   "interpreter": {
    "hash": "53b661e86c0fb3a7847bfb80be1a663c6d16331bfe7f5b3ca6e6817531f3439a"
   }
  }
 },
 "nbformat": 4,
 "nbformat_minor": 2
}
