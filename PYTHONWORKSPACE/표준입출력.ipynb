{
 "cells": [
  {
   "cell_type": "code",
   "execution_count": 1,
   "metadata": {},
   "outputs": [
    {
     "name": "stdout",
     "output_type": "stream",
     "text": [
      "Python Java\n"
     ]
    }
   ],
   "source": [
    "print(\"Python\", \"Java\")"
   ]
  },
  {
   "cell_type": "code",
   "execution_count": 2,
   "metadata": {},
   "outputs": [
    {
     "name": "stdout",
     "output_type": "stream",
     "text": [
      "Python,Java\n"
     ]
    }
   ],
   "source": [
    "print(\"Python\", \"Java\", sep=\",\")"
   ]
  },
  {
   "cell_type": "code",
   "execution_count": 3,
   "metadata": {},
   "outputs": [
    {
     "name": "stdout",
     "output_type": "stream",
     "text": [
      "Python vs Java\n"
     ]
    }
   ],
   "source": [
    "print(\"Python\", \"Java\", sep=\" vs \")"
   ]
  },
  {
   "cell_type": "code",
   "execution_count": 6,
   "metadata": {},
   "outputs": [
    {
     "name": "stdout",
     "output_type": "stream",
     "text": [
      "Python vs Java vs JavaScript\n"
     ]
    }
   ],
   "source": [
    "print(\"Python\", \"Java\", \"JavaScript\", sep=\" vs \")"
   ]
  },
  {
   "cell_type": "code",
   "execution_count": 7,
   "metadata": {},
   "outputs": [
    {
     "name": "stdout",
     "output_type": "stream",
     "text": [
      "Python,Java?무엇이 더 재밌을까요?\n"
     ]
    }
   ],
   "source": [
    "print(\"Python\", \"Java\", sep=\",\", end=\"?\")\n",
    "print(\"무엇이 더 재밌을까요?\")"
   ]
  },
  {
   "cell_type": "code",
   "execution_count": 8,
   "metadata": {},
   "outputs": [
    {
     "name": "stdout",
     "output_type": "stream",
     "text": [
      "Python Java\n"
     ]
    },
    {
     "name": "stderr",
     "output_type": "stream",
     "text": [
      "Python Java\n"
     ]
    }
   ],
   "source": [
    "import sys\n",
    "print(\"Python\", \"Java\", file = sys.stdout) # 표준출력\n",
    "print(\"Python\", \"Java\", file = sys.stderr) # 표준에러"
   ]
  },
  {
   "cell_type": "code",
   "execution_count": 9,
   "metadata": {},
   "outputs": [
    {
     "name": "stdout",
     "output_type": "stream",
     "text": [
      "수학 0\n",
      "영어 50\n",
      "코딩 100\n"
     ]
    }
   ],
   "source": [
    "scores = {\"수학\": 0, \"영어\": 50, \"코딩\":100}\n",
    "for subject, score in scores.items(): # 키(key) : 값(value) 쌍 뽑아내기\n",
    "    print(subject, score)"
   ]
  },
  {
   "cell_type": "code",
   "execution_count": null,
   "metadata": {},
   "outputs": [],
   "source": [
    "scores = {\"수학\": 0, \"영어\": 50, \"코딩\":100}\n",
    "for subject, score in scores.items(): # 키(key) : 값(value) 쌍 뽑아내기\n",
    "    print(subject.ljust(8), score)"
   ]
  }
 ],
 "metadata": {
  "kernelspec": {
   "display_name": "Python 3.11.0 64-bit",
   "language": "python",
   "name": "python3"
  },
  "language_info": {
   "codemirror_mode": {
    "name": "ipython",
    "version": 3
   },
   "file_extension": ".py",
   "mimetype": "text/x-python",
   "name": "python",
   "nbconvert_exporter": "python",
   "pygments_lexer": "ipython3",
   "version": "3.11.0"
  },
  "orig_nbformat": 4,
  "vscode": {
   "interpreter": {
    "hash": "53b661e86c0fb3a7847bfb80be1a663c6d16331bfe7f5b3ca6e6817531f3439a"
   }
  }
 },
 "nbformat": 4,
 "nbformat_minor": 2
}
