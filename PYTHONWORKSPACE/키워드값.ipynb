{
 "cells": [
  {
   "cell_type": "code",
   "execution_count": 1,
   "metadata": {},
   "outputs": [],
   "source": [
    "def profile(name, age, main_lang):\n",
    "    print(name, age, main_lang)\n"
   ]
  },
  {
   "cell_type": "code",
   "execution_count": 2,
   "metadata": {},
   "outputs": [
    {
     "name": "stdout",
     "output_type": "stream",
     "text": [
      "유재석 20 파이썬\n",
      "김태호 25 자바\n"
     ]
    }
   ],
   "source": [
    "profile(name = \"유재석\",age= 20, main_lang=\"파이썬\")\n",
    "profile(main_lang=\"자바\", age=25, name=\"김태호\") #순서가 뒤섞여 있어도 함수에서 정한 순서대로 호출된다"
   ]
  },
  {
   "cell_type": "code",
   "execution_count": null,
   "metadata": {},
   "outputs": [],
   "source": []
  }
 ],
 "metadata": {
  "kernelspec": {
   "display_name": "Python 3.11.0 64-bit",
   "language": "python",
   "name": "python3"
  },
  "language_info": {
   "codemirror_mode": {
    "name": "ipython",
    "version": 3
   },
   "file_extension": ".py",
   "mimetype": "text/x-python",
   "name": "python",
   "nbconvert_exporter": "python",
   "pygments_lexer": "ipython3",
   "version": "3.11.0"
  },
  "orig_nbformat": 4,
  "vscode": {
   "interpreter": {
    "hash": "53b661e86c0fb3a7847bfb80be1a663c6d16331bfe7f5b3ca6e6817531f3439a"
   }
  }
 },
 "nbformat": 4,
 "nbformat_minor": 2
}
