{
 "cells": [
  {
   "cell_type": "code",
   "execution_count": null,
   "metadata": {},
   "outputs": [],
   "source": [
    "''' Quiz) 당신의 회사에서는 매주 1회 작성해야 하는 보고서가 있습니다.\n",
    "보고서는 항상 아래와 같은 형태로 출력되어야 합니다.\n",
    "\n",
    " - X 주차 주간보고 - \n",
    " 부서:\n",
    " 이름:\n",
    " 업무 요약:\n",
    "\n",
    " 1주차부터 50주차까지의 보고서 파ㅣㄹ을 만드는 프로그램을 작성하시오.\n",
    " 조건 : 파일명은 '1주차.txt', '2주차.txt'\n",
    " \n",
    "'''"
   ]
  },
  {
   "cell_type": "code",
   "execution_count": 2,
   "metadata": {},
   "outputs": [],
   "source": [
    "for i in range(1, 51):\n",
    "    with open(str(i) + \"주차.txt\", \"w\", encoding=\"utf8\") as report_file:\n",
    "        report_file.write(\" - {0} 주차 주간보고 -\".format(i))\n",
    "        report_file.write(\"\\n부서 :\")\n",
    "        report_file.write(\"\\n이름 :\")\n",
    "        report_file.write(\"\\n업무 요약:\")"
   ]
  },
  {
   "cell_type": "code",
   "execution_count": null,
   "metadata": {},
   "outputs": [],
   "source": []
  }
 ],
 "metadata": {
  "kernelspec": {
   "display_name": "Python 3.11.0 64-bit",
   "language": "python",
   "name": "python3"
  },
  "language_info": {
   "codemirror_mode": {
    "name": "ipython",
    "version": 3
   },
   "file_extension": ".py",
   "mimetype": "text/x-python",
   "name": "python",
   "nbconvert_exporter": "python",
   "pygments_lexer": "ipython3",
   "version": "3.11.0"
  },
  "orig_nbformat": 4,
  "vscode": {
   "interpreter": {
    "hash": "53b661e86c0fb3a7847bfb80be1a663c6d16331bfe7f5b3ca6e6817531f3439a"
   }
  }
 },
 "nbformat": 4,
 "nbformat_minor": 2
}
