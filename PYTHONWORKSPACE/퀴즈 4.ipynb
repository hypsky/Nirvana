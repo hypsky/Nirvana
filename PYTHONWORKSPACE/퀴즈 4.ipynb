{
 "cells": [
  {
   "cell_type": "code",
   "execution_count": 2,
   "metadata": {},
   "outputs": [
    {
     "name": "stdout",
     "output_type": "stream",
     "text": [
      "[1, 2, 3, 4, 5]\n",
      "[1, 5, 3, 4, 2]\n",
      "[2]\n"
     ]
    }
   ],
   "source": [
    "'''\n",
    "Quiz) 당신의 학교에서는 파이썬 코딩 대회를 주최합니다\n",
    "참석률을 높이기 위해 댓글 이벤트를 진행하기로 했습니다.\n",
    "댓글 작성자들 중에 추첨을 통해 1명은 치킨, 3명은 커피 쿠폰을 받게 됩니다.\n",
    "추첨 프로그램을 작성하시오.\n",
    "\n",
    "조건 1: 편의상 댓글은 20명이 작성하였고 아이디는 1~20 이라고 가정\n",
    "조건 2: 댓글 내용과 상관 없이 무작위로 추첨하되 중복 불가\n",
    "조건 3: random 모듈의 shuffle 과 sample 을 활용\n",
    "\n",
    "(출력 예제)\n",
    "\n",
    "-- 당첨자 발표 --\n",
    "치킨 당첨자 : 1\n",
    "커피 당첨자 : [2, 3, 4]\n",
    "-- 축하합니다. --\n",
    "\n",
    "(활용 예제)\n",
    "'''\n",
    "from random import *\n",
    "lst = [1, 2, 3, 4, 5,]\n",
    "print(lst)\n",
    "shuffle(lst)\n",
    "print(lst)\n",
    "print(sample(lst,1))"
   ]
  },
  {
   "cell_type": "code",
   "execution_count": 9,
   "metadata": {},
   "outputs": [],
   "source": [
    "from random import *\n",
    "member = [1,2,3,4,5,6,7,8,9,10,11,12,13,14,15,16,17,18,19,20]\n"
   ]
  },
  {
   "cell_type": "code",
   "execution_count": 10,
   "metadata": {},
   "outputs": [],
   "source": [
    "shuffle(member)"
   ]
  },
  {
   "cell_type": "code",
   "execution_count": 11,
   "metadata": {},
   "outputs": [
    {
     "name": "stdout",
     "output_type": "stream",
     "text": [
      "[19, 17, 13, 11, 10, 18, 2, 6, 7, 4, 20, 9, 5, 12, 8, 16, 15, 1, 14, 3]\n"
     ]
    }
   ],
   "source": [
    "print(member)"
   ]
  },
  {
   "cell_type": "code",
   "execution_count": 13,
   "metadata": {},
   "outputs": [
    {
     "name": "stdout",
     "output_type": "stream",
     "text": [
      "None\n",
      "-- 당첨자 발표 --\n",
      "치킨 당첨자 : 4\n",
      "커피 당첨자 : [14, 12, 19]\n",
      "-- 축하합니다. --\n"
     ]
    }
   ],
   "source": [
    "users = range(1, 21) # 1에서 20까지\n",
    "\n",
    "users = list(users)\n",
    "print(shuffle(users))\n",
    "\n",
    "winners = sample(users, 4) # 4명 중에서 1명은 치킨, 3명은 커피\n",
    "\n",
    "print(\"-- 당첨자 발표 --\")\n",
    "print( \"치킨 당첨자 : {0}\".format(winners[0]))\n",
    "print(\"커피 당첨자 : {0}\".format(winners[1:]))\n",
    "print(\"-- 축하합니다. --\")\n",
    "\n"
   ]
  },
  {
   "cell_type": "code",
   "execution_count": 12,
   "metadata": {},
   "outputs": [
    {
     "ename": "SyntaxError",
     "evalue": "invalid syntax (1383950159.py, line 1)",
     "output_type": "error",
     "traceback": [
      "\u001b[0;36m  Cell \u001b[0;32mIn [12], line 1\u001b[0;36m\u001b[0m\n\u001b[0;31m    print( \"-- 당첨자 발표 --\" \"\\n\" \"치킨 당첨자: \",sample(member , 1)\"\\n\",\"커피 당첨자:\", sample(member,3), \"'\\n\", \"--축하합니다.--\")\u001b[0m\n\u001b[0m                                                            ^\u001b[0m\n\u001b[0;31mSyntaxError\u001b[0m\u001b[0;31m:\u001b[0m invalid syntax\n"
     ]
    }
   ],
   "source": [
    "print( \"-- 당첨자 발표 --\" \"\\n\"\n",
    " \"치킨 당첨자: \",sample(member , 1)\"\\n\"\n",
    " \"커피 당첨자:\", sample(member, 3), \"\\n\", \n",
    " \"--축하합니다.--\")"
   ]
  },
  {
   "cell_type": "code",
   "execution_count": null,
   "metadata": {},
   "outputs": [],
   "source": []
  }
 ],
 "metadata": {
  "kernelspec": {
   "display_name": "Python 3.9.6 64-bit",
   "language": "python",
   "name": "python3"
  },
  "language_info": {
   "codemirror_mode": {
    "name": "ipython",
    "version": 3
   },
   "file_extension": ".py",
   "mimetype": "text/x-python",
   "name": "python",
   "nbconvert_exporter": "python",
   "pygments_lexer": "ipython3",
   "version": "3.9.6"
  },
  "orig_nbformat": 4,
  "vscode": {
   "interpreter": {
    "hash": "31f2aee4e71d21fbe5cf8b01ff0e069b9275f58929596ceb00d14d90e3e16cd6"
   }
  }
 },
 "nbformat": 4,
 "nbformat_minor": 2
}
