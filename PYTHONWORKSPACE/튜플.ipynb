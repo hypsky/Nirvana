{
 "cells": [
  {
   "cell_type": "code",
   "execution_count": null,
   "metadata": {},
   "outputs": [],
   "source": [
    "# 속도가 리스트보다 빨르다.\n",
    "\n",
    "menu = (\"돈까스\", \"치즈까스\")\n",
    "print(menu[0])\n",
    "print(menu[1])\n",
    "\n",
    "# menu.add(\"생선까스\")\n",
    "\n",
    "name = \"김종국\"\n",
    "age = 20\n",
    "hobby = \"코딩\"\n",
    "print(name, age, hobby)\n",
    "\n",
    "name, age, hobby = \"김종국\", 20, \"코딩\"\n",
    "print(name, hobby, age)"
   ]
  }
 ],
 "metadata": {
  "language_info": {
   "name": "python"
  },
  "orig_nbformat": 4
 },
 "nbformat": 4,
 "nbformat_minor": 2
}
