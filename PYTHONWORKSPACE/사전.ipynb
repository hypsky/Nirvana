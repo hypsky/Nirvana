{
 "cells": [
  {
   "cell_type": "code",
   "execution_count": 6,
   "metadata": {},
   "outputs": [
    {
     "name": "stdout",
     "output_type": "stream",
     "text": [
      "유재석\n",
      "김태호\n",
      "유재석\n",
      "김태호\n",
      "None\n",
      "사용가능\n",
      "hi\n"
     ]
    }
   ],
   "source": [
    "# 사전 딕셔너리\n",
    "cabinet={3:\"유재석\", 100:\"김태호\"} \n",
    "print(cabinet[3])\n",
    "print(cabinet[100])\n",
    "\n",
    "print(cabinet.get(3))\n",
    "print(cabinet.get(100))\n",
    "# print(cabinet[5])\n",
    "print(cabinet.get(5))\n",
    "print(cabinet.get(5, \"사용가능\"))\n",
    "print(\"hi\")"
   ]
  },
  {
   "cell_type": "code",
   "execution_count": 8,
   "metadata": {},
   "outputs": [
    {
     "name": "stdout",
     "output_type": "stream",
     "text": [
      "True\n",
      "False\n"
     ]
    }
   ],
   "source": [
    "print(3 in cabinet) # True\n",
    "print(5 in cabinet) # False"
   ]
  },
  {
   "cell_type": "code",
   "execution_count": 9,
   "metadata": {},
   "outputs": [
    {
     "name": "stdout",
     "output_type": "stream",
     "text": [
      "유재석\n",
      "김태호\n",
      "{'A-3': '유재석', 'B-100': '김태호'}\n",
      "{'A-3': '김종국', 'B-100': '김태호', 'C-20': '조세호'}\n",
      "{'B-100': '김태호', 'C-20': '조세호'}\n"
     ]
    }
   ],
   "source": [
    "cabinet = {\"A-3\":\"유재석\", \"B-100\":\"김태호\"}\n",
    "print(cabinet[\"A-3\"])\n",
    "print(cabinet[\"B-100\"])\n",
    "\n",
    "# 새손님\n",
    "print(cabinet)\n",
    "cabinet[\"A-3\"] = \"김종국\"\n",
    "cabinet[\"C-20\"] = \"조세호\"\n",
    "print(cabinet)\n",
    "\n",
    "# 간손님\n",
    "del cabinet[\"A-3\"]\n",
    "print(cabinet)"
   ]
  },
  {
   "cell_type": "code",
   "execution_count": 11,
   "metadata": {},
   "outputs": [
    {
     "name": "stdout",
     "output_type": "stream",
     "text": [
      "dict_keys(['B-100', 'C-20'])\n",
      "dict_values(['김태호', '조세호'])\n",
      "dict_items([('B-100', '김태호'), ('C-20', '조세호')])\n",
      "{}\n"
     ]
    }
   ],
   "source": [
    "# key 들만 출력\n",
    "print(cabinet.keys())\n",
    "\n",
    "# value 들만 출력\n",
    "print(cabinet.values())\n",
    "\n",
    "# key, value 둘다 출력\n",
    "print(cabinet.items())\n",
    "\n",
    "# 목욕탕 폐점\n",
    "cabinet.clear()\n",
    "print(cabinet)"
   ]
  }
 ],
 "metadata": {
  "kernelspec": {
   "display_name": "Python 3.9.6 64-bit",
   "language": "python",
   "name": "python3"
  },
  "language_info": {
   "codemirror_mode": {
    "name": "ipython",
    "version": 3
   },
   "file_extension": ".py",
   "mimetype": "text/x-python",
   "name": "python",
   "nbconvert_exporter": "python",
   "pygments_lexer": "ipython3",
   "version": "3.9.6"
  },
  "orig_nbformat": 4,
  "vscode": {
   "interpreter": {
    "hash": "31f2aee4e71d21fbe5cf8b01ff0e069b9275f58929596ceb00d14d90e3e16cd6"
   }
  }
 },
 "nbformat": 4,
 "nbformat_minor": 2
}
