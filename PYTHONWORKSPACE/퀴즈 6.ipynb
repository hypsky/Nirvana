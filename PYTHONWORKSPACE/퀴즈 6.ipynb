{
 "cells": [
  {
   "cell_type": "code",
   "execution_count": null,
   "metadata": {},
   "outputs": [],
   "source": [
    "'''Quiz) 표준 체중을 구하는 프로그램을 작성하시오\n",
    "\n",
    "*표준 체중 : 각개인의 키에 적당한 체중\n",
    "\n",
    "(성별에 따른 공식)\n",
    "남자 : 키(m) x 키(m) x 22\n",
    "여자 : 키(m) x 키(m) x 21\n",
    "\n",
    "조건 : 1 표준 체중은 별도의 함수 내에서 계산\n",
    "        * 함수명 : std_weight\n",
    "        * 전달값: 키(height), 성별(gender)\n",
    "조건 2: 표준 체중은 소수점 둘째자리까지 표시\n",
    "\n",
    "(출력예제)\n",
    "키 175cm 남자의 표준 체중은 67.38kg 입니다.\n",
    "'''"
   ]
  },
  {
   "cell_type": "code",
   "execution_count": 2,
   "metadata": {},
   "outputs": [],
   "source": [
    "def std_weigth(height, gender): # 키 m 단위(실수), 성별 \"남자\"/ \"여자\"\n",
    "    if gender == \"남자\":\n",
    "        return height * height * 22\n",
    "    else:\n",
    "        return height * height * 21"
   ]
  },
  {
   "cell_type": "code",
   "execution_count": 3,
   "metadata": {},
   "outputs": [
    {
     "name": "stdout",
     "output_type": "stream",
     "text": [
      "키 175cm 남자의 표준 체중은 67.38kg 입니다.\n"
     ]
    }
   ],
   "source": [
    "height = 175\n",
    "gender = \"남자\"\n",
    "weight = round(std_weigth(height/100, gender), 2)\n",
    "print(\"키 {0}cm {1}의 표준 체중은 {2}kg 입니다.\".format(height, gender, weight))"
   ]
  },
  {
   "cell_type": "code",
   "execution_count": null,
   "metadata": {},
   "outputs": [],
   "source": []
  }
 ],
 "metadata": {
  "kernelspec": {
   "display_name": "Python 3.11.0 64-bit",
   "language": "python",
   "name": "python3"
  },
  "language_info": {
   "codemirror_mode": {
    "name": "ipython",
    "version": 3
   },
   "file_extension": ".py",
   "mimetype": "text/x-python",
   "name": "python",
   "nbconvert_exporter": "python",
   "pygments_lexer": "ipython3",
   "version": "3.11.0"
  },
  "orig_nbformat": 4,
  "vscode": {
   "interpreter": {
    "hash": "53b661e86c0fb3a7847bfb80be1a663c6d16331bfe7f5b3ca6e6817531f3439a"
   }
  }
 },
 "nbformat": 4,
 "nbformat_minor": 2
}
