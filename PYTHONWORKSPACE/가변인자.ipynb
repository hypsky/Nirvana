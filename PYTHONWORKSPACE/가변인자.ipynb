{
 "cells": [
  {
   "cell_type": "code",
   "execution_count": 1,
   "metadata": {},
   "outputs": [],
   "source": [
    "def profile(name, age, lang1, lang2, lang3, lang4, lang5):\n",
    "    print(\"이름: {0} \\t나이: {1}\\t\".format(name,age), end=\" \")\n",
    "    print(lang1, lang2, lang3, lang4, lang5)"
   ]
  },
  {
   "cell_type": "code",
   "execution_count": 5,
   "metadata": {},
   "outputs": [
    {
     "name": "stdout",
     "output_type": "stream",
     "text": [
      "이름: 유재석 \t나이: 20\t Python Java C C++ C#\n",
      "이름: 김태호 \t나이: 25\t Kotlin Swift   \n"
     ]
    }
   ],
   "source": [
    "profile(\"유재석\", 20, \"Python\", \"Java\", \"C\", \"C++\", \"C#\")\n",
    "profile(\"김태호\", 25, \"Kotlin\", \"Swift\", \"\",\"\",\"\")"
   ]
  },
  {
   "cell_type": "code",
   "execution_count": 6,
   "metadata": {},
   "outputs": [],
   "source": [
    "def profile(name, age, *language):\n",
    "    print(\"이름: {0}\\t 나이:{1}\\t\".format(name, age), end=\" \")\n",
    "    for lang in language:\n",
    "        print(lang, end=\" \")\n",
    "    print()"
   ]
  },
  {
   "cell_type": "code",
   "execution_count": 7,
   "metadata": {},
   "outputs": [
    {
     "name": "stdout",
     "output_type": "stream",
     "text": [
      "이름: 유재석\t 나이:20\t Python Java C C++ C# JavaScript \n",
      "이름: 김태호\t 나이:25\t Kotlin Swift \n"
     ]
    }
   ],
   "source": [
    "profile(\"유재석\", 20, \"Python\", \"Java\", \"C\", \"C++\", \"C#\", \"JavaScript\")\n",
    "profile(\"김태호\", 25, \"Kotlin\", \"Swift\")"
   ]
  }
 ],
 "metadata": {
  "kernelspec": {
   "display_name": "Python 3.11.0 64-bit",
   "language": "python",
   "name": "python3"
  },
  "language_info": {
   "codemirror_mode": {
    "name": "ipython",
    "version": 3
   },
   "file_extension": ".py",
   "mimetype": "text/x-python",
   "name": "python",
   "nbconvert_exporter": "python",
   "pygments_lexer": "ipython3",
   "version": "3.11.0"
  },
  "orig_nbformat": 4,
  "vscode": {
   "interpreter": {
    "hash": "53b661e86c0fb3a7847bfb80be1a663c6d16331bfe7f5b3ca6e6817531f3439a"
   }
  }
 },
 "nbformat": 4,
 "nbformat_minor": 2
}
